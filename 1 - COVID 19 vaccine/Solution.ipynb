{
 "cells": [
  {
   "cell_type": "code",
   "execution_count": 3,
   "metadata": {},
   "outputs": [],
   "source": [
    "import Bio\n",
    "import numpy as np\n",
    "from Bio import SeqIO\n",
    "import matplotlib.pyplot as plt\n",
    "import pandas as pd"
   ]
  },
  {
   "cell_type": "code",
   "execution_count": 4,
   "metadata": {},
   "outputs": [],
   "source": [
    "# importing data from fasta files\n",
    "\n",
    "for record in SeqIO.parse(\"SARS-CoV-2.fasta\", \"fasta\"):\n",
    "    SARS = record.seq\n",
    "\n",
    "for record in SeqIO.parse(\"Figure1Figure2_032321.fasta\", \"fasta\"):\n",
    "    if 'Moderna' in record.id:\n",
    "        moderna = record.seq\n",
    "    else:\n",
    "        pfizer = record.seq"
   ]
  },
  {
   "cell_type": "code",
   "execution_count": 5,
   "metadata": {},
   "outputs": [],
   "source": [
    "# from DNA to RNA\n",
    "mrna_SARS = SARS.transcribe()\n",
    "mrna_moderna = moderna.transcribe()\n",
    "mrna_pfizer = pfizer.transcribe()"
   ]
  },
  {
   "cell_type": "markdown",
   "metadata": {},
   "source": [
    "# Q1"
   ]
  },
  {
   "cell_type": "markdown",
   "metadata": {},
   "source": [
    "Create a function that takes mRNA as an input and returns the translated coding region (Hint 1: you need to find the initiation codon and the stop codon. Hint 2: use BioPython!)"
   ]
  },
  {
   "cell_type": "code",
   "execution_count": 6,
   "metadata": {},
   "outputs": [],
   "source": [
    "def coding_region(mrna):\n",
    "    start = 'ATG'\n",
    "    stop = ['TAG','TAA','TGA']\n",
    "\n",
    "    start_index = mrna.find(start)+3\n",
    "    catch = np.arange(start_index, len(mrna), 3)\n",
    "    \n",
    "    for i in catch:\n",
    "        codon = mrna[i : i+3]\n",
    "        if codon in stop:\n",
    "            stop_index = i\n",
    "            break\n",
    "            \n",
    "    return mrna[start_index:stop_index]"
   ]
  },
  {
   "cell_type": "markdown",
   "metadata": {},
   "source": [
    "# Q2"
   ]
  },
  {
   "cell_type": "markdown",
   "metadata": {},
   "source": [
    "1. What’s the position of the initiation codon (“AUG”)?"
   ]
  },
  {
   "cell_type": "code",
   "execution_count": 7,
   "metadata": {},
   "outputs": [
    {
     "name": "stdout",
     "output_type": "stream",
     "text": [
      "The possition of ATG in pfizer is: 54\n",
      "The possition of ATG in moderna is: 57\n",
      "The possition of ATG in SARS is: 106\n"
     ]
    }
   ],
   "source": [
    "pfizer_start = pfizer.find(\"ATG\")\n",
    "moderna_start = moderna.find(\"ATG\")\n",
    "SARS_start = SARS.find(\"ATG\")\n",
    "                             \n",
    "print(f'The possition of ATG in pfizer is: {pfizer_start}')\n",
    "print(f'The possition of ATG in moderna is: {moderna_start}')\n",
    "print(f'The possition of ATG in SARS is: {SARS_start}')"
   ]
  },
  {
   "cell_type": "markdown",
   "metadata": {},
   "source": [
    "2. What’s the position of the termination codon?"
   ]
  },
  {
   "cell_type": "code",
   "execution_count": 8,
   "metadata": {},
   "outputs": [
    {
     "name": "stdout",
     "output_type": "stream",
     "text": [
      "The possition of STOP in pfizer is: 3873\n",
      "The possition of STOP in moderna is: 3876\n",
      "The possition of STOP in SARS is: 133\n"
     ]
    }
   ],
   "source": [
    "pfizer_end = pfizer_start+len(coding_region(pfizer))+3\n",
    "moderna_end = moderna_start+len(coding_region(moderna))+3\n",
    "SARS_end = SARS_start+len(coding_region(SARS))+3\n",
    "\n",
    "print(f'The possition of STOP in pfizer is: {pfizer_end}')\n",
    "print(f'The possition of STOP in moderna is: {moderna_end}')\n",
    "print(f'The possition of STOP in SARS is: {SARS_end}')"
   ]
  },
  {
   "cell_type": "markdown",
   "metadata": {},
   "source": [
    "3. What sequence did each company use for the stop codon?"
   ]
  },
  {
   "cell_type": "code",
   "execution_count": 9,
   "metadata": {},
   "outputs": [
    {
     "name": "stdout",
     "output_type": "stream",
     "text": [
      "pfizer used TGATGA as stop codon\n",
      "moderna used TGATAATAG as stop codon\n"
     ]
    }
   ],
   "source": [
    "stop = ['TAG','TAA','TGA']\n",
    "\n",
    "# finding the stop codon length for pfizer\n",
    "pfizer_counter = 0\n",
    "\n",
    "for i in range(pfizer_end, len(pfizer),3):\n",
    "    if pfizer[i : i+3] in stop:\n",
    "        pfizer_counter+=3\n",
    "    else:\n",
    "        break\n",
    "\n",
    "# finding the stop codon length for moderna\n",
    "moderna_counter= 0\n",
    "\n",
    "for i in range(moderna_end, len(moderna),3):\n",
    "    if moderna[i : i+3] in stop:\n",
    "        moderna_counter+=3\n",
    "    else:\n",
    "        break\n",
    "        \n",
    "print(f'pfizer used {pfizer[pfizer_end:pfizer_end+pfizer_counter]} as stop codon')\n",
    "print(f'moderna used {moderna[moderna_end:moderna_end+moderna_counter]} as stop codon')"
   ]
  },
  {
   "cell_type": "markdown",
   "metadata": {},
   "source": [
    "4. Please suggest another stop codon sequence."
   ]
  },
  {
   "cell_type": "code",
   "execution_count": 10,
   "metadata": {},
   "outputs": [
    {
     "name": "stdout",
     "output_type": "stream",
     "text": [
      "Alternative stop codon : TAATAGTAG\n"
     ]
    }
   ],
   "source": [
    "import random\n",
    "\n",
    "alter_stop = ''\n",
    "num_of_end_codons = 3 # to be selected by whom \n",
    "for codon in range (num_of_end_codons):\n",
    "    alter_stop += random.choice(stop)\n",
    "        \n",
    "print(\"Alternative stop codon : \" + str(alter_stop))"
   ]
  },
  {
   "cell_type": "markdown",
   "metadata": {},
   "source": [
    "5. How would you call the area between the first nucleotide and the “AUG” site?"
   ]
  },
  {
   "cell_type": "markdown",
   "metadata": {},
   "source": [
    " The area between the first nucleotide and the “AUG” site is called: Putative 5’ UTR"
   ]
  },
  {
   "cell_type": "markdown",
   "metadata": {},
   "source": [
    "6. How would you call the area between the termination codon and the last nucleotide?"
   ]
  },
  {
   "cell_type": "markdown",
   "metadata": {},
   "source": [
    "The area between the termination codon and the last nucleotide is divided into 2 parts:\n",
    "1. 3’ UTR\n",
    "2. polyA region"
   ]
  },
  {
   "cell_type": "markdown",
   "metadata": {},
   "source": [
    "# Q3"
   ]
  },
  {
   "cell_type": "markdown",
   "metadata": {},
   "source": [
    "Using your function, translate the coding area into protein. What’s the length of each coding sequence?"
   ]
  },
  {
   "cell_type": "code",
   "execution_count": 11,
   "metadata": {},
   "outputs": [],
   "source": [
    "pfizer_protein = coding_region(pfizer).translate()\n",
    "moderna_protein = coding_region(moderna).translate()"
   ]
  },
  {
   "cell_type": "code",
   "execution_count": 12,
   "metadata": {},
   "outputs": [
    {
     "name": "stdout",
     "output_type": "stream",
     "text": [
      "The length of pfizer sequence is 1272\n",
      "The length of moderna sequence is 1272\n"
     ]
    }
   ],
   "source": [
    "print(f'The length of pfizer sequence is {len(pfizer_protein)}')\n",
    "print(f'The length of moderna sequence is {len(moderna_protein)}')"
   ]
  },
  {
   "cell_type": "markdown",
   "metadata": {},
   "source": [
    "# Q4"
   ]
  },
  {
   "cell_type": "markdown",
   "metadata": {},
   "source": [
    "Are the coding regions of the vaccines identical in the protein level?"
   ]
  },
  {
   "cell_type": "code",
   "execution_count": 13,
   "metadata": {},
   "outputs": [
    {
     "name": "stdout",
     "output_type": "stream",
     "text": [
      "True\n"
     ]
    }
   ],
   "source": [
    "print(pfizer_protein==moderna_protein)"
   ]
  },
  {
   "cell_type": "markdown",
   "metadata": {},
   "source": [
    "# Q5"
   ]
  },
  {
   "cell_type": "markdown",
   "metadata": {},
   "source": [
    "Are the coding regions of the vaccines identical in the nucleotide level?"
   ]
  },
  {
   "cell_type": "code",
   "execution_count": 14,
   "metadata": {},
   "outputs": [
    {
     "name": "stdout",
     "output_type": "stream",
     "text": [
      "False\n"
     ]
    }
   ],
   "source": [
    "print(coding_region(pfizer)==coding_region(moderna))"
   ]
  },
  {
   "cell_type": "markdown",
   "metadata": {},
   "source": [
    "# Q6"
   ]
  },
  {
   "cell_type": "markdown",
   "metadata": {},
   "source": [
    "Create a histogram of amino-acids usage for the Pfizer vaccine"
   ]
  },
  {
   "cell_type": "code",
   "execution_count": 15,
   "metadata": {},
   "outputs": [],
   "source": [
    "def protein_frequency(seq):\n",
    "    dicto = {}\n",
    "    for n in seq:\n",
    "        keys = dicto.keys()\n",
    "        if n in keys:\n",
    "            dicto[n] += 1\n",
    "        else:\n",
    "            dicto[n] = 1\n",
    "    return dicto"
   ]
  },
  {
   "cell_type": "code",
   "execution_count": 16,
   "metadata": {},
   "outputs": [
    {
     "data": {
      "image/png": "[encoded data removed]",
      "text/plain": [
       "<Figure size 432x288 with 1 Axes>"
      ]
     },
     "metadata": {
      "needs_background": "light"
     },
     "output_type": "display_data"
    }
   ],
   "source": [
    "hist_data = protein_frequency(pfizer_protein)\n",
    "\n",
    "plt.bar(list(hist_data.keys()), hist_data.values(), color='g')\n",
    "plt.title('Amino-acids usage for the Pfizer vaccine')\n",
    "plt.show()"
   ]
  },
  {
   "cell_type": "markdown",
   "metadata": {},
   "source": [
    "# Q7"
   ]
  },
  {
   "cell_type": "markdown",
   "metadata": {},
   "source": [
    "Create the same histogram but color each codon within the amino-acid (i.e. create a stacked histogram)"
   ]
  },
  {
   "cell_type": "code",
   "execution_count": 17,
   "metadata": {},
   "outputs": [],
   "source": [
    "def codon_frequency(seq):\n",
    "    dicto = {}\n",
    "    for i in range(0,len(seq),3):\n",
    "        keys = dicto.keys()\n",
    "        if seq[i : i+3] in keys:\n",
    "            dicto[seq[i : i+3]] += 1\n",
    "        else:\n",
    "            dicto[seq[i : i+3]] = 1\n",
    "    return dicto"
   ]
  },
  {
   "cell_type": "code",
   "execution_count": 18,
   "metadata": {},
   "outputs": [],
   "source": [
    "def codon_dict_to_protein_dict (dicto):\n",
    "    table = {\n",
    "        'ATA':'I', 'ATC':'I', 'ATT':'I', 'ATG':'M',\n",
    "        'ACA':'T', 'ACC':'T', 'ACG':'T', 'ACT':'T',\n",
    "        'AAC':'N', 'AAT':'N', 'AAA':'K', 'AAG':'K',\n",
    "        'AGC':'S', 'AGT':'S', 'AGA':'R', 'AGG':'R',                 \n",
    "        'CTA':'L', 'CTC':'L', 'CTG':'L', 'CTT':'L',\n",
    "        'CCA':'P', 'CCC':'P', 'CCG':'P', 'CCT':'P',\n",
    "        'CAC':'H', 'CAT':'H', 'CAA':'Q', 'CAG':'Q',\n",
    "        'CGA':'R', 'CGC':'R', 'CGG':'R', 'CGT':'R',\n",
    "        'GTA':'V', 'GTC':'V', 'GTG':'V', 'GTT':'V',\n",
    "        'GCA':'A', 'GCC':'A', 'GCG':'A', 'GCT':'A',\n",
    "        'GAC':'D', 'GAT':'D', 'GAA':'E', 'GAG':'E',\n",
    "        'GGA':'G', 'GGC':'G', 'GGG':'G', 'GGT':'G',\n",
    "        'TCA':'S', 'TCC':'S', 'TCG':'S', 'TCT':'S',\n",
    "        'TTC':'F', 'TTT':'F', 'TTA':'L', 'TTG':'L',\n",
    "        'TAC':'Y', 'TAT':'Y', 'TAA':'_', 'TAG':'_',\n",
    "        'TGC':'C', 'TGT':'C', 'TGA':'_', 'TGG':'W',\n",
    "    }\n",
    "    dict_protein = {}\n",
    "    for i in range(len(dicto)):\n",
    "        keys = dict_protein.keys()\n",
    "        temp_protein = table[str(list(dicto.keys())[i])]\n",
    "\n",
    "        if temp_protein in keys:\n",
    "            dict_protein[temp_protein][str(list(dicto.keys())[i])] = list(dicto.values())[i]\n",
    "        else:\n",
    "            dict_protein[temp_protein] = {str(list(dicto.keys())[i]) : list(dicto.values())[i]}\n",
    "    return dict_protein"
   ]
  },
  {
   "cell_type": "code",
   "execution_count": 19,
   "metadata": {},
   "outputs": [],
   "source": [
    "pfizer_seq = coding_region(pfizer)\n",
    "pfizer_codon_dict = codon_frequency(pfizer_seq)\n",
    "data_to_hist = codon_dict_to_protein_dict (pfizer_codon_dict)"
   ]
  },
  {
   "cell_type": "code",
   "execution_count": 20,
   "metadata": {},
   "outputs": [
    {
     "data": {
      "image/png": "[encoded data removed]",
      "text/plain": [
       "<Figure size 432x288 with 1 Axes>"
      ]
     },
     "metadata": {
      "needs_background": "light"
     },
     "output_type": "display_data"
    }
   ],
   "source": [
    "df = pd.DataFrame(data_to_hist)\n",
    "df = df.transpose()\n",
    "df.plot(kind=\"bar\", stacked=True, legend = None)\n",
    "plt.title('Amino-acids usage for the Pfizer vaccine divided into codons')\n",
    "plt.show()"
   ]
  },
  {
   "cell_type": "markdown",
   "metadata": {},
   "source": [
    "# Q8"
   ]
  },
  {
   "cell_type": "markdown",
   "metadata": {},
   "source": [
    "What’s the length of the Wuhan strain genome?"
   ]
  },
  {
   "cell_type": "code",
   "execution_count": 21,
   "metadata": {},
   "outputs": [
    {
     "name": "stdout",
     "output_type": "stream",
     "text": [
      "The total length of Wuhan genome is: 29903\n"
     ]
    }
   ],
   "source": [
    "print(f'The total length of Wuhan genome is: {len(SARS)}')"
   ]
  },
  {
   "cell_type": "markdown",
   "metadata": {},
   "source": [
    "# Q9"
   ]
  },
  {
   "cell_type": "markdown",
   "metadata": {},
   "source": [
    "Report the nucleotide sequence of the Spike region of the Wuhan strain from the initiation codon to the termination codon (hint: use the information in the NCBI website about the starting and stopping position of Spike). "
   ]
  },
  {
   "cell_type": "code",
   "execution_count": 22,
   "metadata": {},
   "outputs": [
    {
     "name": "stdout",
     "output_type": "stream",
     "text": [
      "According to NCBI website, the spike of Wuhan strain starts at possition 21563 (counter satrst at 1) and ends at 25384 \n",
      "\n",
      "That is mean that the sequence is:\n",
      "ATGTTTGTTTTTCTTGTTTTATTGCCACTAGTCTCTAGTCAGTGTGTTAATCTTACAACCAGAACTCAATTACCCCCTGCATACACTAATTCTTTCACACGTGGTGTTTATTACCCTGACAAAGTTTTCAGATCCTCAGTTTTACATTCAACTCAGGACTTGTTCTTACCTTTCTTTTCCAATGTTACTTGGTTCCATGCTATACATGTCTCTGGGACCAATGGTACTAAGAGGTTTGATAACCCTGTCCTACCATTTAATGATGGTGTTTATTTTGCTTCCACTGAGAAGTCTAACATAATAAGAGGCTGGATTTTTGGTACTACTTTAGATTCGAAGACCCAGTCCCTACTTATTGTTAATAACGCTACTAATGTTGTTATTAAAGTCTGTGAATTTCAATTTTGTAATGATCCATTTTTGGGTGTTTATTACCACAAAAACAACAAAAGTTGGATGGAAAGTGAGTTCAGAGTTTATTCTAGTGCGAATAATTGCACTTTTGAATATGTCTCTCAGCCTTTTCTTATGGACCTTGAAGGAAAACAGGGTAATTTCAAAAATCTTAGGGAATTTGTGTTTAAGAATATTGATGGTTATTTTAAAATATATTCTAAGCACACGCCTATTAATTTAGTGCGTGATCTCCCTCAGGGTTTTTCGGCTTTAGAACCATTGGTAGATTTGCCAATAGGTATTAACATCACTAGGTTTCAAACTTTACTTGCTTTACATAGAAGTTATTTGACTCCTGGTGATTCTTCTTCAGGTTGGACAGCTGGTGCTGCAGCTTATTATGTGGGTTATCTTCAACCTAGGACTTTTCTATTAAAATATAATGAAAATGGAACCATTACAGATGCTGTAGACTGTGCACTTGACCCTCTCTCAGAAACAAAGTGTACGTTGAAATCCTTCACTGTAGAAAAAGGAATCTATCAAACTTCTAACTTTAGAGTCCAACCAACAGAATCTATTGTTAGATTTCCTAATATTACAAACTTGTGCCCTTTTGGTGAAGTTTTTAACGCCACCAGATTTGCATCTGTTTATGCTTGGAACAGGAAGAGAATCAGCAACTGTGTTGCTGATTATTCTGTCCTATATAATTCCGCATCATTTTCCACTTTTAAGTGTTATGGAGTGTCTCCTACTAAATTAAATGATCTCTGCTTTACTAATGTCTATGCAGATTCATTTGTAATTAGAGGTGATGAAGTCAGACAAATCGCTCCAGGGCAAACTGGAAAGATTGCTGATTATAATTATAAATTACCAGATGATTTTACAGGCTGCGTTATAGCTTGGAATTCTAACAATCTTGATTCTAAGGTTGGTGGTAATTATAATTACCTGTATAGATTGTTTAGGAAGTCTAATCTCAAACCTTTTGAGAGAGATATTTCAACTGAAATCTATCAGGCCGGTAGCACACCTTGTAATGGTGTTGAAGGTTTTAATTGTTACTTTCCTTTACAATCATATGGTTTCCAACCCACTAATGGTGTTGGTTACCAACCATACAGAGTAGTAGTACTTTCTTTTGAACTTCTACATGCACCAGCAACTGTTTGTGGACCTAAAAAGTCTACTAATTTGGTTAAAAACAAATGTGTCAATTTCAACTTCAATGGTTTAACAGGCACAGGTGTTCTTACTGAGTCTAACAAAAAGTTTCTGCCTTTCCAACAATTTGGCAGAGACATTGCTGACACTACTGATGCTGTCCGTGATCCACAGACACTTGAGATTCTTGACATTACACCATGTTCTTTTGGTGGTGTCAGTGTTATAACACCAGGAACAAATACTTCTAACCAGGTTGCTGTTCTTTATCAGGATGTTAACTGCACAGAAGTCCCTGTTGCTATTCATGCAGATCAACTTACTCCTACTTGGCGTGTTTATTCTACAGGTTCTAATGTTTTTCAAACACGTGCAGGCTGTTTAATAGGGGCTGAACATGTCAACAACTCATATGAGTGTGACATACCCATTGGTGCAGGTATATGCGCTAGTTATCAGACTCAGACTAATTCTCCTCGGCGGGCACGTAGTGTAGCTAGTCAATCCATCATTGCCTACACTATGTCACTTGGTGCAGAAAATTCAGTTGCTTACTCTAATAACTCTATTGCCATACCCACAAATTTTACTATTAGTGTTACCACAGAAATTCTACCAGTGTCTATGACCAAGACATCAGTAGATTGTACAATGTACATTTGTGGTGATTCAACTGAATGCAGCAATCTTTTGTTGCAATATGGCAGTTTTTGTACACAATTAAACCGTGCTTTAACTGGAATAGCTGTTGAACAAGACAAAAACACCCAAGAAGTTTTTGCACAAGTCAAACAAATTTACAAAACACCACCAATTAAAGATTTTGGTGGTTTTAATTTTTCACAAATATTACCAGATCCATCAAAACCAAGCAAGAGGTCATTTATTGAAGATCTACTTTTCAACAAAGTGACACTTGCAGATGCTGGCTTCATCAAACAATATGGTGATTGCCTTGGTGATATTGCTGCTAGAGACCTCATTTGTGCACAAAAGTTTAACGGCCTTACTGTTTTGCCACCTTTGCTCACAGATGAAATGATTGCTCAATACACTTCTGCACTGTTAGCGGGTACAATCACTTCTGGTTGGACCTTTGGTGCAGGTGCTGCATTACAAATACCATTTGCTATGCAAATGGCTTATAGGTTTAATGGTATTGGAGTTACACAGAATGTTCTCTATGAGAACCAAAAATTGATTGCCAACCAATTTAATAGTGCTATTGGCAAAATTCAAGACTCACTTTCTTCCACAGCAAGTGCACTTGGAAAACTTCAAGATGTGGTCAACCAAAATGCACAAGCTTTAAACACGCTTGTTAAACAACTTAGCTCCAATTTTGGTGCAATTTCAAGTGTTTTAAATGATATCCTTTCACGTCTTGACAAAGTTGAGGCTGAAGTGCAAATTGATAGGTTGATCACAGGCAGACTTCAAAGTTTGCAGACATATGTGACTCAACAATTAATTAGAGCTGCAGAAATCAGAGCTTCTGCTAATCTTGCTGCTACTAAAATGTCAGAGTGTGTACTTGGACAATCAAAAAGAGTTGATTTTTGTGGAAAGGGCTATCATCTTATGTCCTTCCCTCAGTCAGCACCTCATGGTGTAGTCTTCTTGCATGTGACTTATGTCCCTGCACAAGAAAAGAACTTCACAACTGCTCCTGCCATTTGTCATGATGGAAAAGCACACTTTCCTCGTGAAGGTGTCTTTGTTTCAAATGGCACACACTGGTTTGTAACACAAAGGAATTTTTATGAACCACAAATCATTACTACAGACAACACATTTGTGTCTGGTAACTGTGATGTTGTAATAGGAATTGTCAACAACACAGTTTATGATCCTTTGCAACCTGAATTAGACTCATTCAAGGAGGAGTTAGATAAATATTTTAAGAATCATACATCACCAGATGTTGATTTAGGTGACATCTCTGGCATTAATGCTTCAGTTGTAAACATTCAAAAAGAAATTGACCGCCTCAATGAGGTTGCCAAGAATTTAAATGAATCTCTCATCGATCTCCAAGAACTTGGAAAGTATGAGCAGTATATAAAATGGCCATGGTACATTTGGCTAGGTTTTATAGCTGGCTTGATTGCCATAGTAATGGTGACAATTATGCTTTGCTGTATGACCAGTTGCTGTAGTTGTCTCAAGGGCTGTTGTTCTTGTGGATCCTGCTGCAAATTTGATGAAGACGACTCTGAGCCAGTGCTCAAAGGAGTCAAATTACATTACACATAA\n"
     ]
    }
   ],
   "source": [
    "print(f'According to NCBI website, the spike of Wuhan strain starts at possition 21563 (counter satrst at 1) and ends at 25384 \\n')\n",
    "SARS_coding_region = SARS[21562:25384]\n",
    "print(f'That is mean that the sequence is:\\n{SARS_coding_region}')"
   ]
  },
  {
   "cell_type": "markdown",
   "metadata": {},
   "source": [
    "# Q10"
   ]
  },
  {
   "cell_type": "markdown",
   "metadata": {},
   "source": [
    "Report the GC content of the Spike region of the Wuhan strain and compare it to the GC content of the Spike region of the Pfizer vaccine."
   ]
  },
  {
   "cell_type": "code",
   "execution_count": 23,
   "metadata": {},
   "outputs": [],
   "source": [
    "def count_GC(seq):\n",
    "    counter = 0\n",
    "    for i in seq:\n",
    "        if i == 'C' or i == 'G':\n",
    "            counter+=1\n",
    "    return counter"
   ]
  },
  {
   "cell_type": "code",
   "execution_count": 24,
   "metadata": {},
   "outputs": [
    {
     "name": "stdout",
     "output_type": "stream",
     "text": [
      "The GC content of the Spike region of the Wuhan strain is: 1425 (without the start codon)\n",
      "The GC content of the Spike region of pfizer strain is: 2176 (without the start codon)\n"
     ]
    }
   ],
   "source": [
    "print(f'The GC content of the Spike region of the Wuhan strain is: {count_GC(SARS_coding_region[3:])} (without the start codon)')\n",
    "print(f'The GC content of the Spike region of pfizer strain is: {count_GC(pfizer_seq)} (without the start codon)')"
   ]
  },
  {
   "cell_type": "markdown",
   "metadata": {},
   "source": [
    "# Q11"
   ]
  },
  {
   "cell_type": "markdown",
   "metadata": {},
   "source": [
    "Translate the sequence into amino acids and report the sequence of the protein"
   ]
  },
  {
   "cell_type": "code",
   "execution_count": 25,
   "metadata": {},
   "outputs": [
    {
     "name": "stdout",
     "output_type": "stream",
     "text": [
      "FVFLVLLPLVSSQCVNLTTRTQLPPAYTNSFTRGVYYPDKVFRSSVLHSTQDLFLPFFSNVTWFHAIHVSGTNGTKRFDNPVLPFNDGVYFASTEKSNIIRGWIFGTTLDSKTQSLLIVNNATNVVIKVCEFQFCNDPFLGVYYHKNNKSWMESEFRVYSSANNCTFEYVSQPFLMDLEGKQGNFKNLREFVFKNIDGYFKIYSKHTPINLVRDLPQGFSALEPLVDLPIGINITRFQTLLALHRSYLTPGDSSSGWTAGAAAYYVGYLQPRTFLLKYNENGTITDAVDCALDPLSETKCTLKSFTVEKGIYQTSNFRVQPTESIVRFPNITNLCPFGEVFNATRFASVYAWNRKRISNCVADYSVLYNSASFSTFKCYGVSPTKLNDLCFTNVYADSFVIRGDEVRQIAPGQTGKIADYNYKLPDDFTGCVIAWNSNNLDSKVGGNYNYLYRLFRKSNLKPFERDISTEIYQAGSTPCNGVEGFNCYFPLQSYGFQPTNGVGYQPYRVVVLSFELLHAPATVCGPKKSTNLVKNKCVNFNFNGLTGTGVLTESNKKFLPFQQFGRDIADTTDAVRDPQTLEILDITPCSFGGVSVITPGTNTSNQVAVLYQDVNCTEVPVAIHADQLTPTWRVYSTGSNVFQTRAGCLIGAEHVNNSYECDIPIGAGICASYQTQTNSPRRARSVASQSIIAYTMSLGAENSVAYSNNSIAIPTNFTISVTTEILPVSMTKTSVDCTMYICGDSTECSNLLLQYGSFCTQLNRALTGIAVEQDKNTQEVFAQVKQIYKTPPIKDFGGFNFSQILPDPSKPSKRSFIEDLLFNKVTLADAGFIKQYGDCLGDIAARDLICAQKFNGLTVLPPLLTDEMIAQYTSALLAGTITSGWTFGAGAALQIPFAMQMAYRFNGIGVTQNVLYENQKLIANQFNSAIGKIQDSLSSTASALGKLQDVVNQNAQALNTLVKQLSSNFGAISSVLNDILSRLDKVEAEVQIDRLITGRLQSLQTYVTQQLIRAAEIRASANLAATKMSECVLGQSKRVDFCGKGYHLMSFPQSAPHGVVFLHVTYVPAQEKNFTTAPAICHDGKAHFPREGVFVSNGTHWFVTQRNFYEPQIITTDNTFVSGNCDVVIGIVNNTVYDPLQPELDSFKEELDKYFKNHTSPDVDLGDISGINASVVNIQKEIDRLNEVAKNLNESLIDLQELGKYEQYIKWPWYIWLGFIAGLIAIVMVTIMLCCMTSCCSCLKGCCSCGSCCKFDEDDSEPVLKGVKLHYT\n"
     ]
    }
   ],
   "source": [
    "SARS_protein = SARS_coding_region[3:len(SARS_coding_region)-3].translate()\n",
    "print(SARS_protein)"
   ]
  },
  {
   "cell_type": "markdown",
   "metadata": {},
   "source": [
    "# Q12"
   ]
  },
  {
   "cell_type": "markdown",
   "metadata": {},
   "source": [
    "Compare between the Spike region of the Pfizer vaccine to the Spike of the Wuhan strain in the protein level. Are there any differences and where?\n",
    "Bonus: explain the differences!\n"
   ]
  },
  {
   "cell_type": "code",
   "execution_count": 26,
   "metadata": {},
   "outputs": [
    {
     "data": {
      "text/plain": [
       "(1272, 1272)"
      ]
     },
     "execution_count": 26,
     "metadata": {},
     "output_type": "execute_result"
    }
   ],
   "source": [
    "len(SARS_protein), len(pfizer_protein)"
   ]
  },
  {
   "cell_type": "code",
   "execution_count": 27,
   "metadata": {},
   "outputs": [
    {
     "name": "stdout",
     "output_type": "stream",
     "text": [
      "There is difference in index 984: pfizer - P, SARS - K\n",
      "There is difference in index 985: pfizer - P, SARS - V\n"
     ]
    }
   ],
   "source": [
    "# finding the indices of difference\n",
    "index_of_diff = []\n",
    "for i in range(len(SARS_protein)):\n",
    "    if SARS_protein[i] != pfizer_protein[i]:\n",
    "        index_of_diff.append(i)\n",
    "        \n",
    "for index in index_of_diff:\n",
    "    print(f'There is difference in index {index}: pfizer - {pfizer_protein[index]}, SARS - {SARS_protein[index]}')"
   ]
  },
  {
   "cell_type": "markdown",
   "metadata": {},
   "source": [
    "## Explenation:\n",
    "The K and V amino acids there are both replaced by ‘P’\n",
    "(Proline). The spikes are mounted on the virus body (‘the\n",
    "nucleocapsid protein’). But Pfizer vaccine is only generating the\n",
    "spikes itself, because of that we’re not mounting them on any\n",
    "kind of virus body. Proline substitution in just the right\n",
    "place would make proteins take up their ‘pre-fusion’\n",
    "configuration, even without being part of the whole virus - this\n",
    "works because Proline is a very rigid amino acid. It acts as a\n",
    "kind of splint, stabilizing to show to the immune system"
   ]
  },
  {
   "cell_type": "markdown",
   "metadata": {},
   "source": [
    "# Q13"
   ]
  },
  {
   "cell_type": "markdown",
   "metadata": {},
   "source": [
    "For the amino acids that appear in the vaccine and the Wuhan strain, create a look-up table that maps between the Wuhan strain codon to the Pfizer codon"
   ]
  },
  {
   "cell_type": "code",
   "execution_count": 28,
   "metadata": {},
   "outputs": [
    {
     "data": {
      "text/plain": [
       "{'TTT': ['TTC', 'TTT'],\n",
       " 'GTT': ['GTG', 'GTC', 'CCT'],\n",
       " 'CTT': ['CTG'],\n",
       " 'TTA': ['CTG', 'CTC'],\n",
       " 'TTG': ['CTG', 'CTC'],\n",
       " 'CCA': ['CCT', 'CCC'],\n",
       " 'CTA': ['CTG'],\n",
       " 'GTC': ['GTG', 'GTT', 'GTC'],\n",
       " 'TCT': ['TCC', 'AGC', 'TCT'],\n",
       " 'AGT': ['AGC', 'TCT'],\n",
       " 'CAG': ['CAG'],\n",
       " 'TGT': ['TGT', 'TGC'],\n",
       " 'AAT': ['AAC', 'AAT'],\n",
       " 'ACA': ['ACC', 'ACA'],\n",
       " 'ACC': ['ACC', 'ACA'],\n",
       " 'AGA': ['AGA', 'CGG', 'AGG'],\n",
       " 'ACT': ['ACA', 'ACC'],\n",
       " 'CAA': ['CAG', 'CAA'],\n",
       " 'CCC': ['CCT', 'CCC'],\n",
       " 'CCT': ['CCA', 'CCC', 'CCT'],\n",
       " 'GCA': ['GCC', 'GCT', 'GCA'],\n",
       " 'TAC': ['TAC', 'TAT'],\n",
       " 'TTC': ['TTT', 'TTC'],\n",
       " 'CGT': ['AGA', 'CGG'],\n",
       " 'GGT': ['GGC', 'GGG', 'GGA', 'GGT'],\n",
       " 'TAT': ['TAC', 'TAT'],\n",
       " 'GAC': ['GAC', 'GAT'],\n",
       " 'AAA': ['AAG', 'AAA', 'CCT'],\n",
       " 'TCC': ['TCC', 'AGC'],\n",
       " 'TCA': ['AGC', 'TCT', 'TCC'],\n",
       " 'CAT': ['CAC', 'CAT'],\n",
       " 'TGG': ['TGG'],\n",
       " 'GCT': ['GCC', 'GCT', 'GCA'],\n",
       " 'ATA': ['ATC', 'ATT'],\n",
       " 'GGG': ['GGC', 'GGA'],\n",
       " 'AAG': ['AAG', 'AAA'],\n",
       " 'AGG': ['AGA', 'CGC', 'CGG'],\n",
       " 'GAT': ['GAC', 'GAT'],\n",
       " 'AAC': ['AAC', 'AAT'],\n",
       " 'GAG': ['GAG', 'GAA'],\n",
       " 'GGC': ['GGC', 'GGA'],\n",
       " 'ATT': ['ATC', 'ATT'],\n",
       " 'TCG': ['AGC', 'TCT'],\n",
       " 'GAA': ['GAG', 'GAA'],\n",
       " 'CAC': ['CAC', 'CAT'],\n",
       " 'ATG': ['ATG'],\n",
       " 'GCG': ['GCC'],\n",
       " 'TGC': ['TGC', 'TGT'],\n",
       " 'GGA': ['GGC', 'GGG', 'GGA'],\n",
       " 'GTG': ['GTG', 'GTC'],\n",
       " 'ACG': ['ACC'],\n",
       " 'CTC': ['CTG'],\n",
       " 'GTA': ['GTG'],\n",
       " 'ATC': ['ATC', 'ATT'],\n",
       " 'GCC': ['GCC', 'GCT'],\n",
       " 'AGC': ['AGC', 'TCC'],\n",
       " 'CTG': ['CTG'],\n",
       " 'CGG': ['CGG', 'AGA'],\n",
       " 'CGC': ['CGG']}"
      ]
     },
     "execution_count": 28,
     "metadata": {},
     "output_type": "execute_result"
    }
   ],
   "source": [
    "# mapping from SARS to pfizer\n",
    "\n",
    "SARS_seq = SARS_coding_region[3:len(SARS_coding_region)-3]\n",
    "pfizer_seq\n",
    "look_up_SARS_to_pfizer = {}\n",
    "for i in range(0,len(pfizer_seq),3):\n",
    "    if SARS_seq[i:i+3] in look_up_SARS_to_pfizer.keys():\n",
    "        if str(pfizer_seq[i:i+3]) not in look_up_SARS_to_pfizer[str(SARS_seq[i:i+3])]:\n",
    "            look_up_SARS_to_pfizer[str(SARS_seq[i:i+3])].append(str(pfizer_seq[i:i+3]))\n",
    "    else:\n",
    "        look_up_SARS_to_pfizer[str(SARS_seq[i:i+3])] = [str(pfizer_seq[i:i+3])]\n",
    "\n",
    "#show the first 5 items in the look-up map\n",
    "look_up_SARS_to_pfizer"
   ]
  },
  {
   "cell_type": "markdown",
   "metadata": {},
   "source": [
    "# Q14"
   ]
  },
  {
   "cell_type": "markdown",
   "metadata": {},
   "source": [
    "Can you deduce any rule about the look-up table that Pfizer uses internally?\n",
    "Bonus: explain the differences!\n"
   ]
  },
  {
   "cell_type": "code",
   "execution_count": 29,
   "metadata": {},
   "outputs": [],
   "source": [
    "# dict_values_lst = list(look_up_SARS_to_pfizer.values())\n",
    "# codon_diff = []\n",
    "\n",
    "# for i in range(len(dict_values_lst)):\n",
    "#     if dict_values_lst[i][0] != dict_values_lst[i][1]:\n",
    "#         codon_diff.append(dict_values_lst[i][1])"
   ]
  },
  {
   "cell_type": "code",
   "execution_count": 30,
   "metadata": {},
   "outputs": [
    {
     "name": "stdout",
     "output_type": "stream",
     "text": [
      "There are in total 351 similar codons \n",
      "which 307 of them are one-to-many \n",
      "and therefore they could choose another codon but did not\n",
      "\n",
      "[39, 54, 57, 78, 108, 114, 123, 126, 129, 153, 159, 165, 168, 189, 213, 216, 225, 237, 270, 282, 285, 291, 300, 303, 333, 336, 360, 381, 429, 432, 438, 441, 456, 462, 465, 492, 516, 528, 534, 552, 573, 576, 579, 612, 615, 621, 633, 639, 645, 660, 666, 678, 696, 699, 708, 732, 747, 753, 771, 774, 777, 786, 792, 795, 810, 846, 867, 879, 891, 894, 909, 912, 921, 930, 945, 966, 987, 1002, 1026, 1029, 1032, 1041, 1056, 1062, 1068, 1071, 1107, 1128, 1140, 1146, 1167, 1209, 1212, 1245, 1287, 1311, 1344, 1347, 1368, 1374, 1389, 1410, 1413, 1419, 1425, 1431, 1434, 1446, 1461, 1491, 1497, 1518, 1521, 1542, 1551, 1575, 1590, 1602, 1605, 1617, 1620, 1623, 1638, 1656, 1662, 1668, 1680, 1689, 1692, 1728, 1737, 1752, 1842, 1851, 1866, 1875, 1887, 1917, 1923, 1938, 1941, 1965, 1977, 1983, 1989, 2007, 2037, 2040, 2070, 2073, 2076, 2079, 2115, 2124, 2127, 2139, 2163, 2166, 2181, 2190, 2193, 2217, 2229, 2241, 2265, 2313, 2319, 2325, 2328, 2331, 2346, 2361, 2397, 2418, 2433, 2436, 2463, 2466, 2469, 2472, 2475, 2490, 2493, 2496, 2505, 2511, 2526, 2544, 2556, 2559, 2562, 2583, 2595, 2613, 2619, 2637, 2640, 2658, 2664, 2688, 2691, 2724, 2736, 2748, 2751, 2766, 2769, 2790, 2802, 2817, 2820, 2832, 2847, 2850, 2853, 2859, 2874, 2898, 2931, 2934, 2949, 2958, 2967, 2985, 2988, 2991, 2994, 3012, 3018, 3036, 3051, 3057, 3063, 3087, 3090, 3111, 3120, 3129, 3132, 3150, 3153, 3165, 3189, 3195, 3207, 3213, 3219, 3228, 3234, 3252, 3258, 3261, 3264, 3270, 3291, 3309, 3336, 3348, 3351, 3360, 3363, 3369, 3390, 3396, 3414, 3432, 3438, 3444, 3462, 3465, 3474, 3501, 3513, 3528, 3537, 3546, 3558, 3564, 3567, 3570, 3588, 3597, 3600, 3609, 3615, 3639, 3654, 3669, 3672, 3687, 3708, 3714, 3717, 3729, 3732, 3735, 3738, 3744, 3753, 3756, 3771, 3777, 3780, 3786, 3801, 3810, 3813]\n"
     ]
    }
   ],
   "source": [
    "# positions of same codons that has one to many in look up map  \n",
    "indicies = []\n",
    "total_codon_similarity = 0\n",
    "for i in range(0,len(pfizer_seq),3):\n",
    "    if SARS_seq[i:i+3] == pfizer_seq[i:i+3]:\n",
    "        total_codon_similarity +=1\n",
    "        if len(look_up_SARS_to_pfizer[str(SARS_seq[i:i+3])]) == 1:\n",
    "            continue\n",
    "        else:\n",
    "            indicies.append(i)\n",
    "print(f'There are in total {total_codon_similarity} similar codons',\n",
    "      f'\\nwhich {len(indicies)} of them are one-to-many',\n",
    "      f'\\nand therefore they could choose another codon but did not\\n')\n",
    "print(indicies)"
   ]
  },
  {
   "cell_type": "markdown",
   "metadata": {},
   "source": [
    "It is noticable that pfizer's rule for codon selection is to use a codon that contains the maximum C or G nocleotid based, and however correspond to the same protein as in the SARS protein\n",
    "\n",
    "##### Explanation:\n",
    "These codons are stronger and it is harder to separate them, thus it has much more resistance. It is important due to the reason that the vaccine need to be transported and stored for long times, and if it won't be resistant, it can be damaged and will not function."
   ]
  },
  {
   "cell_type": "markdown",
   "metadata": {},
   "source": [
    "# Q15"
   ]
  },
  {
   "cell_type": "markdown",
   "metadata": {},
   "source": [
    "Without aligning, develop an algorithm to quickly sift through the 75000 genomes and find all entries that can match the South Afircan variant (hint: mutations occur very rarely. You can assume that positions adjacent to the mutated sites are identical to the Wuhan strain)."
   ]
  },
  {
   "cell_type": "code",
   "execution_count": 31,
   "metadata": {},
   "outputs": [
    {
     "data": {
      "text/plain": [
       "['G', 'A', 'A']"
      ]
     },
     "execution_count": 31,
     "metadata": {},
     "output_type": "execute_result"
    }
   ],
   "source": [
    "[SARS[23011], SARS[23062], SARS[21800]]"
   ]
  },
  {
   "cell_type": "code",
   "execution_count": 32,
   "metadata": {},
   "outputs": [],
   "source": [
    "def sa_var(path_to_file, d):\n",
    "    # d denote for the number of nuc from each side of the \"bad\" nuc\n",
    "    \n",
    "    first = SARS[23011-d:23011] + 'A' + SARS[23012:23012+d]\n",
    "    second = SARS[23062-d:23062] + 'T' + SARS[23063:23063+d]\n",
    "    third = SARS[21800-d:21800] + 'C' + SARS[21801:21801+d]\n",
    "\n",
    "    lst_of_id = []\n",
    "    lst_of_countries = []\n",
    "\n",
    "    with open(path_to_file, mode='r') as handle:\n",
    "        for record in SeqIO.parse(handle, 'fasta'):\n",
    "            identifier = record.id\n",
    "            description = record.description\n",
    "            sequence = record.seq\n",
    "\n",
    "            index = (description.find('human'))\n",
    "            index2 = (description.find('/', index+1))\n",
    "            index3 = (description.find('/', index2+1))\n",
    "\n",
    "            if (sequence.find(first) != -1) and (sequence.find(second) != -1) and (sequence.find(third) != -1):\n",
    "                lst_of_id.append(identifier)\n",
    "                lst_of_countries.append(description[index2+1:index3])\n",
    "    \n",
    "    return lst_of_id, lst_of_countries"
   ]
  },
  {
   "cell_type": "code",
   "execution_count": 33,
   "metadata": {},
   "outputs": [],
   "source": [
    "path_to_file = 'sequences.fasta'\n",
    "id_lst, countries = sa_var(path_to_file, 20)"
   ]
  },
  {
   "cell_type": "markdown",
   "metadata": {},
   "source": [
    "# Q16"
   ]
  },
  {
   "cell_type": "markdown",
   "metadata": {},
   "source": [
    "\n",
    "Report all entries in your collection that you think match the South Afican variant. Where were they collected? Does it make sense?\n"
   ]
  },
  {
   "cell_type": "code",
   "execution_count": null,
   "metadata": {},
   "outputs": [],
   "source": [
    "id_lst,countries"
   ]
  },
  {
   "cell_type": "code",
   "execution_count": 34,
   "metadata": {},
   "outputs": [
    {
     "data": {
      "text/plain": [
       "45"
      ]
     },
     "execution_count": 34,
     "metadata": {},
     "output_type": "execute_result"
    }
   ],
   "source": [
    "len(id_lst)"
   ]
  },
  {
   "cell_type": "code",
   "execution_count": 35,
   "metadata": {},
   "outputs": [
    {
     "data": {
      "text/plain": [
       "array(['DEU', 'FRA', 'GHA',\n",
       "       'HG999935.1 |Severe acute respiratory syndrome coronavirus 2 isolate a1244 genome assembly, complete genome: monopartit',\n",
       "       'HG999939.1 |Severe acute respiratory syndrome coronavirus 2 isolate a1245 genome assembly, complete genome: monopartit',\n",
       "       'ITA', 'USA'], dtype='<U118')"
      ]
     },
     "execution_count": 35,
     "metadata": {},
     "output_type": "execute_result"
    }
   ],
   "source": [
    "np.unique(countries)"
   ]
  },
  {
   "cell_type": "markdown",
   "metadata": {},
   "source": [
    "The SA variant appeard in Deutschland, France, Ghana, Italy and the USA.\n",
    "Although it was expected that SA would appear as well, it does make sense becuse these countries are highly visited and therefore it is possible.\n",
    "(In the original DB there is only one sequence from South Africa, however it does not appear in our list)."
   ]
  },
  {
   "cell_type": "markdown",
   "metadata": {},
   "source": [
    "# Q17"
   ]
  },
  {
   "cell_type": "markdown",
   "metadata": {},
   "source": [
    "Develop a method to extract the Spike sequence of one of the entries, translate, and report the protein sequence (hint: the South African spike is not very different than the Wuhan strain and must start with AUG)."
   ]
  },
  {
   "cell_type": "code",
   "execution_count": 36,
   "metadata": {},
   "outputs": [
    {
     "data": {
      "text/plain": [
       "'MW898265.1'"
      ]
     },
     "execution_count": 36,
     "metadata": {},
     "output_type": "execute_result"
    }
   ],
   "source": [
    "id_lst[0]"
   ]
  },
  {
   "cell_type": "code",
   "execution_count": 37,
   "metadata": {},
   "outputs": [],
   "source": [
    "with open('sequences.fasta', mode='r') as handle:\n",
    "    for record in SeqIO.parse(handle, 'fasta'):\n",
    "        identifier = record.id\n",
    "        if identifier == 'MW898265.1' :\n",
    "            sequence = record.seq\n",
    "            break"
   ]
  },
  {
   "cell_type": "code",
   "execution_count": 38,
   "metadata": {},
   "outputs": [],
   "source": [
    "def find_spike_sa_var(sequence, d):\n",
    "    look_up_start = SARS_coding_region[:d]\n",
    "    start_index = sequence.find(look_up_start)\n",
    "    stop = ['TAG','TAA','TGA']\n",
    "    catch = np.arange(start_index, len(sequence), 3)\n",
    "    \n",
    "    for i in catch:\n",
    "        codon = sequence[i : i+3]\n",
    "        if codon in stop:\n",
    "            stop_index = i\n",
    "            break\n",
    "            \n",
    "    return sequence[start_index+3:stop_index]\n"
   ]
  },
  {
   "cell_type": "code",
   "execution_count": 39,
   "metadata": {},
   "outputs": [],
   "source": [
    "some_sa_var = find_spike_sa_var(sequence, 15)"
   ]
  },
  {
   "cell_type": "markdown",
   "metadata": {},
   "source": [
    "# Q18"
   ]
  },
  {
   "cell_type": "markdown",
   "metadata": {},
   "source": [
    "Use everything you learned so far, including the look up table of Pfizer and the addition of special nucleotides to design a South African mRNA vaccine. Don’t forget the add the 5’UTR and 3’UTR. Report the vaccine sequence."
   ]
  },
  {
   "cell_type": "markdown",
   "metadata": {},
   "source": [
    "#### step-by-step solution:\n",
    "\n",
    "1. translate the spike SA variant to protein\n",
    "2. Find if there are any gaps in the legnth between the spike SARS and the spike varient. If exists - fix the gap temporarly\n",
    "3. according to Q12, make sure protein in position 984,985 are the same as SARS\n",
    "4. While having same length - find all diferences between SARS and variant\n",
    "5. while there is no difference in the protein level, take the codon sequence  \n",
    "6. If there is change in the protein level, translate the protein randomly according to the table, and change it, if necessary, according to the look-up map that was created. If there are several options for codon, choose the one with the highest GC content\n",
    "7. add:\n",
    "    * start codons to the spike\n",
    "    * stop codons to the spike\n",
    "    * UTR 5' at the beginning\n",
    "    * UTR 3' and polyA region at the end\n"
   ]
  },
  {
   "cell_type": "code",
   "execution_count": 42,
   "metadata": {},
   "outputs": [
    {
     "name": "stdout",
     "output_type": "stream",
     "text": [
      "There is a gap of 3 between the SARS and the variant\n",
      "The gap possition starts as:240\n",
      "LAL\n",
      "The gaps between SARS and fixed variant are in possitions [78, 213, 240, 241, 258, 259, 260, 267, 300, 301, 302, 415, 482, 499, 612, 699]\n",
      "Is 984 & 985 are the same? True\n"
     ]
    }
   ],
   "source": [
    "codon_to_protein_table = {\n",
    "    'ATA':'I', 'ATC':'I', 'ATT':'I', 'ATG':'M',\n",
    "    'ACA':'T', 'ACC':'T', 'ACG':'T', 'ACT':'T',\n",
    "    'AAC':'N', 'AAT':'N', 'AAA':'K', 'AAG':'K',\n",
    "    'AGC':'S', 'AGT':'S', 'AGA':'R', 'AGG':'R',                 \n",
    "    'CTA':'L', 'CTC':'L', 'CTG':'L', 'CTT':'L',\n",
    "    'CCA':'P', 'CCC':'P', 'CCG':'P', 'CCT':'P',\n",
    "    'CAC':'H', 'CAT':'H', 'CAA':'Q', 'CAG':'Q',\n",
    "    'CGA':'R', 'CGC':'R', 'CGG':'R', 'CGT':'R',\n",
    "    'GTA':'V', 'GTC':'V', 'GTG':'V', 'GTT':'V',\n",
    "    'GCA':'A', 'GCC':'A', 'GCG':'A', 'GCT':'A',\n",
    "    'GAC':'D', 'GAT':'D', 'GAA':'E', 'GAG':'E',\n",
    "    'GGA':'G', 'GGC':'G', 'GGG':'G', 'GGT':'G',\n",
    "    'TCA':'S', 'TCC':'S', 'TCG':'S', 'TCT':'S',\n",
    "    'TTC':'F', 'TTT':'F', 'TTA':'L', 'TTG':'L',\n",
    "    'TAC':'Y', 'TAT':'Y', 'TAA':'_', 'TAG':'_',\n",
    "    'TGC':'C', 'TGT':'C', 'TGA':'_', 'TGG':'W',\n",
    "}\n",
    "\n",
    "# translate the variant to protein\n",
    "var_translated = some_sa_var.translate()\n",
    "\n",
    "print(f'There is a gap of {len(SARS_protein)-len(var_translated)} between the SARS and the variant')\n",
    "\n",
    "# find the gap possition between SARS to variant in protein level\n",
    "for i in range(len(var_translated)):\n",
    "    if var_translated[i] == SARS_protein[i]:\n",
    "        continue\n",
    "    else:\n",
    "        if var_translated[i+1] == SARS_protein[i+1]:\n",
    "            continue\n",
    "        else:\n",
    "            ap_possition = i\n",
    "            break\n",
    "print(f'The gap possition starts as:{i}')\n",
    "print(SARS_protein[i:i+3])\n",
    "\n",
    "# temorarly fixing to the legnth of SARS with adding the \"missing\" part\n",
    "## fixing the protein seq\n",
    "temp_var = var_translated[:239]+'LAL'+var_translated[239:]\n",
    "## fixing the nuc seq\n",
    "adjusted_var_codon = some_sa_var[:239*3] + 'LAL'*3 + some_sa_var[239*3:]\n",
    "\n",
    "# check for difference between SARS and fixed variant\n",
    "errors = []\n",
    "for j in range(len(temp_var)):\n",
    "    if temp_var[j] == SARS_protein[j]:\n",
    "        continue\n",
    "    else:\n",
    "        errors.append(j)\n",
    "\n",
    "print(f'The gaps between SARS and fixed variant are in possitions {errors}')\n",
    "\n",
    "# check if 984,985 are the same\n",
    "print(f'Is 984 & 985 are the same? {temp_var[984:986]==SARS_protein[984:986]}')\n",
    "\n",
    "# taking pfizer vaccine, however where the variant different from SARS, taking the nuc according to look-up map\n",
    "nuc_errors = [item * 3 for item in errors]\n",
    "nuc_errors.append(len(temp_var)*3)\n",
    "nuc_errors.insert(0,-3)\n",
    "new_vacc = ''\n",
    "for p in range(len(nuc_errors)-1):\n",
    "    new_vacc += pfizer[nuc_errors[p]+3:nuc_errors[p+1]]\n",
    "\n",
    "    if adjusted_var_codon[nuc_errors[p+1]:nuc_errors[p+1]+3] in look_up_SARS_to_pfizer.keys():\n",
    "        map_this_nuc = adjusted_var_codon[nuc_errors[p+1]:nuc_errors[p+1]+3]\n",
    "    else:\n",
    "        map_this_nuc = list(codon_to_protein_table.keys())[list(codon_to_protein_table.values()).index(temp_var[(p+1)//3])]\n",
    "    \n",
    "    temp_lst_map = look_up_SARS_to_pfizer[map_this_nuc]\n",
    "    best_codon_seq = ''\n",
    "    best_GC = 0\n",
    "    for codon in temp_lst_map:\n",
    "        temp_count = count_GC(codon)\n",
    "        if temp_count > best_GC:\n",
    "            best_codon_seq = codon\n",
    "\n",
    "    new_vacc += best_codon_seq"
   ]
  },
  {
   "cell_type": "code",
   "execution_count": 43,
   "metadata": {},
   "outputs": [],
   "source": [
    "# initiate the start and end as in pfizer vaccine\n",
    "sa_vac_start = pfizer[:pfizer_start+3]\n",
    "sa_vac_end = pfizer[pfizer_end:]"
   ]
  },
  {
   "cell_type": "code",
   "execution_count": 44,
   "metadata": {},
   "outputs": [
    {
     "data": {
      "text/plain": [
       "Seq('GAGAATAAACTAGTATTCTTCTGGTCCCCACAGACTCAGAGAGAACCCGCCACC...GCA')"
      ]
     },
     "execution_count": 44,
     "metadata": {},
     "output_type": "execute_result"
    }
   ],
   "source": [
    "#combine Start+coding region+end\n",
    "full_new_vacc = sa_vac_start + new_vacc + sa_vac_end\n",
    "full_new_vacc"
   ]
  },
  {
   "cell_type": "code",
   "execution_count": null,
   "metadata": {},
   "outputs": [],
   "source": []
  }
 ],
 "metadata": {
  "kernelspec": {
   "display_name": "Python 3",
   "language": "python",
   "name": "python3"
  },
  "language_info": {
   "codemirror_mode": {
    "name": "ipython",
    "version": 3
   },
   "file_extension": ".py",
   "mimetype": "text/x-python",
   "name": "python",
   "nbconvert_exporter": "python",
   "pygments_lexer": "ipython3",
   "version": "3.8.3"
  }
 },
 "nbformat": 4,
 "nbformat_minor": 4
}
